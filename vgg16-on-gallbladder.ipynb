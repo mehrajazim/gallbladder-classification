{
 "cells": [
  {
   "cell_type": "code",
   "execution_count": 1,
   "id": "fb3c43b8",
   "metadata": {
    "_cell_guid": "b1076dfc-b9ad-4769-8c92-a6c4dae69d19",
    "_uuid": "8f2839f25d086af736a60e9eeb907d3b93b6e0e5",
    "execution": {
     "iopub.execute_input": "2024-11-07T10:17:17.447901Z",
     "iopub.status.busy": "2024-11-07T10:17:17.447617Z",
     "iopub.status.idle": "2024-11-07T10:17:29.753144Z",
     "shell.execute_reply": "2024-11-07T10:17:29.751809Z"
    },
    "papermill": {
     "duration": 12.312968,
     "end_time": "2024-11-07T10:17:29.755368",
     "exception": false,
     "start_time": "2024-11-07T10:17:17.442400",
     "status": "completed"
    },
    "tags": []
   },
   "outputs": [
    {
     "name": "stdout",
     "output_type": "stream",
     "text": [
      "Requirement already satisfied: torch in /opt/conda/lib/python3.10/site-packages (2.4.0)\r\n",
      "Requirement already satisfied: torchvision in /opt/conda/lib/python3.10/site-packages (0.19.0)\r\n",
      "Requirement already satisfied: tqdm in /opt/conda/lib/python3.10/site-packages (4.66.4)\r\n",
      "Requirement already satisfied: filelock in /opt/conda/lib/python3.10/site-packages (from torch) (3.15.1)\r\n",
      "Requirement already satisfied: typing-extensions>=4.8.0 in /opt/conda/lib/python3.10/site-packages (from torch) (4.12.2)\r\n",
      "Requirement already satisfied: sympy in /opt/conda/lib/python3.10/site-packages (from torch) (1.13.3)\r\n",
      "Requirement already satisfied: networkx in /opt/conda/lib/python3.10/site-packages (from torch) (3.3)\r\n",
      "Requirement already satisfied: jinja2 in /opt/conda/lib/python3.10/site-packages (from torch) (3.1.4)\r\n",
      "Requirement already satisfied: fsspec in /opt/conda/lib/python3.10/site-packages (from torch) (2024.6.1)\r\n",
      "Requirement already satisfied: numpy in /opt/conda/lib/python3.10/site-packages (from torchvision) (1.26.4)\r\n",
      "Requirement already satisfied: pillow!=8.3.*,>=5.3.0 in /opt/conda/lib/python3.10/site-packages (from torchvision) (10.3.0)\r\n",
      "Requirement already satisfied: MarkupSafe>=2.0 in /opt/conda/lib/python3.10/site-packages (from jinja2->torch) (2.1.5)\r\n",
      "Requirement already satisfied: mpmath<1.4,>=1.1.0 in /opt/conda/lib/python3.10/site-packages (from sympy->torch) (1.3.0)\r\n",
      "Note: you may need to restart the kernel to use updated packages.\n"
     ]
    }
   ],
   "source": [
    "pip install torch torchvision tqdm\n"
   ]
  },
  {
   "cell_type": "code",
   "execution_count": 2,
   "id": "97735827",
   "metadata": {
    "execution": {
     "iopub.execute_input": "2024-11-07T10:17:29.765369Z",
     "iopub.status.busy": "2024-11-07T10:17:29.765040Z",
     "iopub.status.idle": "2024-11-07T10:17:34.178912Z",
     "shell.execute_reply": "2024-11-07T10:17:34.178173Z"
    },
    "papermill": {
     "duration": 4.421343,
     "end_time": "2024-11-07T10:17:34.181188",
     "exception": false,
     "start_time": "2024-11-07T10:17:29.759845",
     "status": "completed"
    },
    "tags": []
   },
   "outputs": [],
   "source": [
    "import torch\n",
    "import torchvision.transforms as transforms\n",
    "from torchvision import datasets, models\n",
    "import torch.nn as nn\n",
    "import torch.optim as optim\n",
    "from torch.utils.data import DataLoader\n",
    "import matplotlib.pyplot as plt\n",
    "import numpy as np\n",
    "import time\n",
    "from tqdm import tqdm\n"
   ]
  },
  {
   "cell_type": "code",
   "execution_count": 3,
   "id": "24f6d578",
   "metadata": {
    "execution": {
     "iopub.execute_input": "2024-11-07T10:17:34.191229Z",
     "iopub.status.busy": "2024-11-07T10:17:34.190566Z",
     "iopub.status.idle": "2024-11-07T10:17:40.521180Z",
     "shell.execute_reply": "2024-11-07T10:17:40.520423Z"
    },
    "papermill": {
     "duration": 6.337842,
     "end_time": "2024-11-07T10:17:40.523395",
     "exception": false,
     "start_time": "2024-11-07T10:17:34.185553",
     "status": "completed"
    },
    "tags": []
   },
   "outputs": [],
   "source": [
    "import torch\n",
    "from torchvision import datasets, transforms\n",
    "from torch.utils.data import DataLoader, random_split\n",
    "\n",
    "# Define transforms for data augmentation and normalization\n",
    "transform = transforms.Compose([\n",
    "    transforms.Resize((224, 224)),  # Resize images to 224x224 for the models\n",
    "    transforms.ToTensor(),\n",
    "    transforms.Normalize([0.485, 0.456, 0.406], [0.229, 0.224, 0.225])  # ImageNet normalization\n",
    "])\n",
    "\n",
    "# Load dataset\n",
    "dataset = datasets.ImageFolder(root='/kaggle/input/gallbladder/Gallblader Diseases Dataset', transform=transform)\n",
    "\n",
    "# Split dataset into train and test sets\n",
    "train_size = int(0.8 * len(dataset))\n",
    "test_size = len(dataset) - train_size\n",
    "train_dataset, test_dataset = random_split(dataset, [train_size, test_size])\n",
    "\n",
    "# Create data loaders\n",
    "train_loader = DataLoader(train_dataset, batch_size=32, shuffle=True)\n",
    "test_loader = DataLoader(test_dataset, batch_size=32, shuffle=False)\n"
   ]
  },
  {
   "cell_type": "code",
   "execution_count": 4,
   "id": "1d886f0e",
   "metadata": {
    "execution": {
     "iopub.execute_input": "2024-11-07T10:17:40.533468Z",
     "iopub.status.busy": "2024-11-07T10:17:40.532845Z",
     "iopub.status.idle": "2024-11-07T10:17:45.143034Z",
     "shell.execute_reply": "2024-11-07T10:17:45.142057Z"
    },
    "papermill": {
     "duration": 4.617835,
     "end_time": "2024-11-07T10:17:45.145568",
     "exception": false,
     "start_time": "2024-11-07T10:17:40.527733",
     "status": "completed"
    },
    "tags": []
   },
   "outputs": [
    {
     "name": "stderr",
     "output_type": "stream",
     "text": [
      "/opt/conda/lib/python3.10/site-packages/torchvision/models/_utils.py:208: UserWarning: The parameter 'pretrained' is deprecated since 0.13 and may be removed in the future, please use 'weights' instead.\n",
      "  warnings.warn(\n",
      "/opt/conda/lib/python3.10/site-packages/torchvision/models/_utils.py:223: UserWarning: Arguments other than a weight enum or `None` for 'weights' are deprecated since 0.13 and may be removed in the future. The current behavior is equivalent to passing `weights=VGG16_Weights.IMAGENET1K_V1`. You can also use `weights=VGG16_Weights.DEFAULT` to get the most up-to-date weights.\n",
      "  warnings.warn(msg)\n",
      "Downloading: \"https://download.pytorch.org/models/vgg16-397923af.pth\" to /root/.cache/torch/hub/checkpoints/vgg16-397923af.pth\n",
      "100%|██████████| 528M/528M [00:03<00:00, 183MB/s]\n"
     ]
    }
   ],
   "source": [
    "# Load the pretrained VGG16 model\n",
    "model = models.vgg16(pretrained=True)\n",
    "\n",
    "# Freeze parameters\n",
    "for param in model.parameters():\n",
    "    param.requires_grad = False\n",
    "\n",
    "# Modify the classifier\n",
    "num_classes = len(dataset.classes)  # Get number of classes\n",
    "model.classifier[6] = nn.Linear(4096, num_classes)\n",
    "\n",
    "# Move model to device\n",
    "# model = model.to(device)\n"
   ]
  },
  {
   "cell_type": "code",
   "execution_count": 5,
   "id": "a861accb",
   "metadata": {
    "execution": {
     "iopub.execute_input": "2024-11-07T10:17:45.162787Z",
     "iopub.status.busy": "2024-11-07T10:17:45.162043Z",
     "iopub.status.idle": "2024-11-07T10:17:45.166929Z",
     "shell.execute_reply": "2024-11-07T10:17:45.166155Z"
    },
    "papermill": {
     "duration": 0.0147,
     "end_time": "2024-11-07T10:17:45.168771",
     "exception": false,
     "start_time": "2024-11-07T10:17:45.154071",
     "status": "completed"
    },
    "tags": []
   },
   "outputs": [],
   "source": [
    "# Define loss function and optimizer\n",
    "criterion = nn.CrossEntropyLoss()\n",
    "optimizer = optim.Adam(model.classifier.parameters(), lr=0.001)  # Only optimize classifier\n"
   ]
  },
  {
   "cell_type": "code",
   "execution_count": 6,
   "id": "c851d7be",
   "metadata": {
    "execution": {
     "iopub.execute_input": "2024-11-07T10:17:45.183986Z",
     "iopub.status.busy": "2024-11-07T10:17:45.183295Z",
     "iopub.status.idle": "2024-11-07T10:17:45.265885Z",
     "shell.execute_reply": "2024-11-07T10:17:45.264962Z"
    },
    "papermill": {
     "duration": 0.091776,
     "end_time": "2024-11-07T10:17:45.267978",
     "exception": false,
     "start_time": "2024-11-07T10:17:45.176202",
     "status": "completed"
    },
    "tags": []
   },
   "outputs": [],
   "source": [
    "device = torch.device(\"cuda\" if torch.cuda.is_available() else \"cpu\")\n"
   ]
  },
  {
   "cell_type": "code",
   "execution_count": 7,
   "id": "a1d8c987",
   "metadata": {
    "execution": {
     "iopub.execute_input": "2024-11-07T10:17:45.283999Z",
     "iopub.status.busy": "2024-11-07T10:17:45.283672Z",
     "iopub.status.idle": "2024-11-07T10:17:45.314391Z",
     "shell.execute_reply": "2024-11-07T10:17:45.313321Z"
    },
    "papermill": {
     "duration": 0.040473,
     "end_time": "2024-11-07T10:17:45.316302",
     "exception": false,
     "start_time": "2024-11-07T10:17:45.275829",
     "status": "completed"
    },
    "tags": []
   },
   "outputs": [
    {
     "name": "stdout",
     "output_type": "stream",
     "text": [
      "Number of GPUs available: 2\n"
     ]
    }
   ],
   "source": [
    "import torch\n",
    "\n",
    "# Check if multiple GPUs are available\n",
    "num_gpus = torch.cuda.device_count()\n",
    "print(f'Number of GPUs available: {num_gpus}')\n"
   ]
  },
  {
   "cell_type": "code",
   "execution_count": 8,
   "id": "5a9ce423",
   "metadata": {
    "execution": {
     "iopub.execute_input": "2024-11-07T10:17:45.329989Z",
     "iopub.status.busy": "2024-11-07T10:17:45.329723Z",
     "iopub.status.idle": "2024-11-07T10:17:45.629016Z",
     "shell.execute_reply": "2024-11-07T10:17:45.628223Z"
    },
    "papermill": {
     "duration": 0.308617,
     "end_time": "2024-11-07T10:17:45.631298",
     "exception": false,
     "start_time": "2024-11-07T10:17:45.322681",
     "status": "completed"
    },
    "tags": []
   },
   "outputs": [],
   "source": [
    "# Assuming 'model' is your VGG16 model\n",
    "if num_gpus > 1:\n",
    "    model = nn.DataParallel(model)\n",
    "\n",
    "# Move the model to the GPU(s)\n",
    "model = model.to(device)\n"
   ]
  },
  {
   "cell_type": "code",
   "execution_count": 9,
   "id": "1f152019",
   "metadata": {
    "execution": {
     "iopub.execute_input": "2024-11-07T10:17:45.647288Z",
     "iopub.status.busy": "2024-11-07T10:17:45.646608Z",
     "iopub.status.idle": "2024-11-07T10:45:46.262055Z",
     "shell.execute_reply": "2024-11-07T10:45:46.260232Z"
    },
    "papermill": {
     "duration": 1680.626581,
     "end_time": "2024-11-07T10:45:46.265697",
     "exception": false,
     "start_time": "2024-11-07T10:17:45.639116",
     "status": "completed"
    },
    "tags": []
   },
   "outputs": [
    {
     "name": "stderr",
     "output_type": "stream",
     "text": [
      "Epoch 1/10:   0%|          | 0/268 [00:00<?, ?batch/s]/opt/conda/lib/python3.10/site-packages/torch/nn/parallel/parallel_apply.py:79: FutureWarning: `torch.cuda.amp.autocast(args...)` is deprecated. Please use `torch.amp.autocast('cuda', args...)` instead.\n",
      "  with torch.cuda.device(device), torch.cuda.stream(stream), autocast(enabled=autocast_enabled):\n",
      "Epoch 1/10: 100%|██████████| 268/268 [03:39<00:00,  1.22batch/s]\n"
     ]
    },
    {
     "name": "stdout",
     "output_type": "stream",
     "text": [
      "Epoch [1/10], Loss: 1.7347, Accuracy: 37.25%, Time: 219.47 seconds\n"
     ]
    },
    {
     "name": "stderr",
     "output_type": "stream",
     "text": [
      "Epoch 2/10: 100%|██████████| 268/268 [02:42<00:00,  1.65batch/s]\n"
     ]
    },
    {
     "name": "stdout",
     "output_type": "stream",
     "text": [
      "Epoch [2/10], Loss: 1.4272, Accuracy: 49.94%, Time: 162.18 seconds\n"
     ]
    },
    {
     "name": "stderr",
     "output_type": "stream",
     "text": [
      "Epoch 3/10: 100%|██████████| 268/268 [02:43<00:00,  1.64batch/s]\n"
     ]
    },
    {
     "name": "stdout",
     "output_type": "stream",
     "text": [
      "Epoch [3/10], Loss: 1.3342, Accuracy: 52.39%, Time: 163.51 seconds\n"
     ]
    },
    {
     "name": "stderr",
     "output_type": "stream",
     "text": [
      "Epoch 4/10: 100%|██████████| 268/268 [02:43<00:00,  1.64batch/s]\n"
     ]
    },
    {
     "name": "stdout",
     "output_type": "stream",
     "text": [
      "Epoch [4/10], Loss: 1.2654, Accuracy: 54.76%, Time: 163.24 seconds\n"
     ]
    },
    {
     "name": "stderr",
     "output_type": "stream",
     "text": [
      "Epoch 5/10: 100%|██████████| 268/268 [02:43<00:00,  1.64batch/s]\n"
     ]
    },
    {
     "name": "stdout",
     "output_type": "stream",
     "text": [
      "Epoch [5/10], Loss: 1.2280, Accuracy: 56.23%, Time: 163.10 seconds\n"
     ]
    },
    {
     "name": "stderr",
     "output_type": "stream",
     "text": [
      "Epoch 6/10: 100%|██████████| 268/268 [02:41<00:00,  1.66batch/s]\n"
     ]
    },
    {
     "name": "stdout",
     "output_type": "stream",
     "text": [
      "Epoch [6/10], Loss: 1.1931, Accuracy: 57.79%, Time: 161.48 seconds\n"
     ]
    },
    {
     "name": "stderr",
     "output_type": "stream",
     "text": [
      "Epoch 7/10: 100%|██████████| 268/268 [02:41<00:00,  1.66batch/s]\n"
     ]
    },
    {
     "name": "stdout",
     "output_type": "stream",
     "text": [
      "Epoch [7/10], Loss: 1.1695, Accuracy: 59.70%, Time: 161.77 seconds\n"
     ]
    },
    {
     "name": "stderr",
     "output_type": "stream",
     "text": [
      "Epoch 8/10: 100%|██████████| 268/268 [02:42<00:00,  1.65batch/s]\n"
     ]
    },
    {
     "name": "stdout",
     "output_type": "stream",
     "text": [
      "Epoch [8/10], Loss: 1.1716, Accuracy: 58.42%, Time: 162.08 seconds\n"
     ]
    },
    {
     "name": "stderr",
     "output_type": "stream",
     "text": [
      "Epoch 9/10: 100%|██████████| 268/268 [02:42<00:00,  1.65batch/s]\n"
     ]
    },
    {
     "name": "stdout",
     "output_type": "stream",
     "text": [
      "Epoch [9/10], Loss: 1.1253, Accuracy: 60.66%, Time: 162.46 seconds\n"
     ]
    },
    {
     "name": "stderr",
     "output_type": "stream",
     "text": [
      "Epoch 10/10: 100%|██████████| 268/268 [02:41<00:00,  1.66batch/s]"
     ]
    },
    {
     "name": "stdout",
     "output_type": "stream",
     "text": [
      "Epoch [10/10], Loss: 1.1411, Accuracy: 59.67%, Time: 161.28 seconds\n"
     ]
    },
    {
     "name": "stderr",
     "output_type": "stream",
     "text": [
      "\n"
     ]
    }
   ],
   "source": [
    "import time\n",
    "from tqdm import tqdm\n",
    "\n",
    "def train_model(model, data_loader, criterion, optimizer, num_epochs=5):\n",
    "    model.train()\n",
    "    \n",
    "    for epoch in range(num_epochs):\n",
    "        start_time = time.time()  # Start timing for the epoch\n",
    "        running_loss = 0.0\n",
    "        correct_predictions = 0\n",
    "        total_predictions = 0\n",
    "        \n",
    "        # Create a progress bar for the training loop\n",
    "        with tqdm(total=len(data_loader), desc=f'Epoch {epoch + 1}/{num_epochs}', unit='batch') as pbar:\n",
    "            for inputs, labels in data_loader:\n",
    "                inputs, labels = inputs.to(device), labels.to(device)\n",
    "                \n",
    "                # Zero the parameter gradients\n",
    "                optimizer.zero_grad()\n",
    "                \n",
    "                # Forward pass\n",
    "                outputs = model(inputs)\n",
    "                loss = criterion(outputs, labels)\n",
    "                \n",
    "                # Backward pass and optimization\n",
    "                loss.backward()\n",
    "                optimizer.step()\n",
    "                \n",
    "                # Calculate loss\n",
    "                running_loss += loss.item()\n",
    "                \n",
    "                # Calculate accuracy\n",
    "                _, predicted = torch.max(outputs.data, 1)\n",
    "                total_predictions += labels.size(0)\n",
    "                correct_predictions += (predicted == labels).sum().item()\n",
    "                \n",
    "                # Update progress bar\n",
    "                pbar.update(1)\n",
    "\n",
    "            # Calculate average loss and accuracy for the epoch\n",
    "            epoch_loss = running_loss / len(data_loader)\n",
    "            epoch_accuracy = correct_predictions / total_predictions * 100\n",
    "            \n",
    "            # Calculate time taken for the epoch\n",
    "            epoch_time = time.time() - start_time\n",
    "            \n",
    "            # Print loss, accuracy, and time taken for the epoch\n",
    "            print(f'Epoch [{epoch + 1}/{num_epochs}], Loss: {epoch_loss:.4f}, Accuracy: {epoch_accuracy:.2f}%, Time: {epoch_time:.2f} seconds')\n",
    "\n",
    "# Example usage\n",
    "# train_model(model, train_loader, criterion, optimizer, num_epochs=5)\n",
    "\n",
    "\n",
    "# Example usage\n",
    "train_model(model, train_loader, criterion, optimizer, num_epochs=10)\n"
   ]
  },
  {
   "cell_type": "code",
   "execution_count": 10,
   "id": "99016966",
   "metadata": {
    "execution": {
     "iopub.execute_input": "2024-11-07T10:45:46.694407Z",
     "iopub.status.busy": "2024-11-07T10:45:46.693627Z",
     "iopub.status.idle": "2024-11-07T10:46:39.810056Z",
     "shell.execute_reply": "2024-11-07T10:46:39.809070Z"
    },
    "papermill": {
     "duration": 53.548351,
     "end_time": "2024-11-07T10:46:40.028050",
     "exception": false,
     "start_time": "2024-11-07T10:45:46.479699",
     "status": "completed"
    },
    "tags": []
   },
   "outputs": [
    {
     "name": "stdout",
     "output_type": "stream",
     "text": [
      "Test Loss: 0.8057, Test Accuracy: 75.18%\n"
     ]
    }
   ],
   "source": [
    "def test_model(model, data_loader, criterion):\n",
    "    model.eval()  # Set the model to evaluation mode\n",
    "    running_loss = 0.0\n",
    "    correct_predictions = 0\n",
    "    total_predictions = 0\n",
    "\n",
    "    with torch.no_grad():  # Disable gradient calculation for testing\n",
    "        for inputs, labels in data_loader:\n",
    "            inputs, labels = inputs.to(device), labels.to(device)\n",
    "            \n",
    "            # Forward pass\n",
    "            outputs = model(inputs)\n",
    "            loss = criterion(outputs, labels)\n",
    "            \n",
    "            # Calculate loss\n",
    "            running_loss += loss.item()\n",
    "            \n",
    "            # Calculate accuracy\n",
    "            _, predicted = torch.max(outputs.data, 1)  # Get the predicted class\n",
    "            total_predictions += labels.size(0)  # Total number of labels\n",
    "            correct_predictions += (predicted == labels).sum().item()  # Count correct predictions\n",
    "\n",
    "    # Calculate average loss and accuracy for the test set\n",
    "    test_loss = running_loss / len(data_loader)\n",
    "    test_accuracy = correct_predictions / total_predictions * 100  # Convert to percentage\n",
    "    \n",
    "    # Print test results\n",
    "    print(f'Test Loss: {test_loss:.4f}, Test Accuracy: {test_accuracy:.2f}%')\n",
    "\n",
    "# Example usage\n",
    "# Assuming you have a DataLoader for your test dataset\n",
    "# test_loader = DataLoader(test_dataset, batch_size=32, shuffle=False)\n",
    "test_model(model, test_loader, criterion)\n"
   ]
  },
  {
   "cell_type": "code",
   "execution_count": 11,
   "id": "292efed8",
   "metadata": {
    "execution": {
     "iopub.execute_input": "2024-11-07T10:46:40.454630Z",
     "iopub.status.busy": "2024-11-07T10:46:40.454150Z",
     "iopub.status.idle": "2024-11-07T10:46:41.445705Z",
     "shell.execute_reply": "2024-11-07T10:46:41.444874Z"
    },
    "papermill": {
     "duration": 1.208435,
     "end_time": "2024-11-07T10:46:41.448022",
     "exception": false,
     "start_time": "2024-11-07T10:46:40.239587",
     "status": "completed"
    },
    "tags": []
   },
   "outputs": [],
   "source": [
    "import torch\n",
    "\n",
    "# Assuming 'model' is your trained model\n",
    "torch.save(model, 'vgg16_model_gallbladder.pth')\n"
   ]
  }
 ],
 "metadata": {
  "kaggle": {
   "accelerator": "nvidiaTeslaT4",
   "dataSources": [
    {
     "datasetId": 5820056,
     "sourceId": 9552012,
     "sourceType": "datasetVersion"
    }
   ],
   "dockerImageVersionId": 30787,
   "isGpuEnabled": true,
   "isInternetEnabled": true,
   "language": "python",
   "sourceType": "notebook"
  },
  "kernelspec": {
   "display_name": "Python 3",
   "language": "python",
   "name": "python3"
  },
  "language_info": {
   "codemirror_mode": {
    "name": "ipython",
    "version": 3
   },
   "file_extension": ".py",
   "mimetype": "text/x-python",
   "name": "python",
   "nbconvert_exporter": "python",
   "pygments_lexer": "ipython3",
   "version": "3.10.14"
  },
  "papermill": {
   "default_parameters": {},
   "duration": 1768.125065,
   "end_time": "2024-11-07T10:46:43.029328",
   "environment_variables": {},
   "exception": null,
   "input_path": "__notebook__.ipynb",
   "output_path": "__notebook__.ipynb",
   "parameters": {},
   "start_time": "2024-11-07T10:17:14.904263",
   "version": "2.6.0"
  }
 },
 "nbformat": 4,
 "nbformat_minor": 5
}
